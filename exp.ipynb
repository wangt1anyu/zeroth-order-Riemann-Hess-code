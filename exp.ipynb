{
 "cells": [
  {
   "cell_type": "code",
   "execution_count": 1,
   "id": "f450969d",
   "metadata": {},
   "outputs": [],
   "source": [
    "import numpy as np \n",
    "import pickle \n",
    "\n",
    "import matplotlib.pyplot as plt \n",
    "%matplotlib inline "
   ]
  },
  {
   "cell_type": "markdown",
   "id": "17016ee4",
   "metadata": {},
   "source": [
    "# test function"
   ]
  },
  {
   "cell_type": "code",
   "execution_count": 80,
   "id": "e9305be2",
   "metadata": {},
   "outputs": [],
   "source": [
    "#\n",
    "\n",
    "SAMPLE_SIZE = 768*5; NOISE_VAR = 0.0025; # sample size and noise variance\n",
    "\n",
    "Ns = [2,4,8] # dimensions\n",
    "DELTAs = [0.05,0.1,0.2] # deltas"
   ]
  },
  {
   "cell_type": "code",
   "execution_count": 81,
   "id": "494a0133",
   "metadata": {},
   "outputs": [],
   "source": [
    "# test functions \n",
    "\n",
    "\n",
    "def func1( x, sigma_sq, n): \n",
    "    \n",
    "    noise = np.random.normal(0, np.sqrt( sigma_sq ) )\n",
    "    \n",
    "#     A = np.linspace(1,n**2, n)\n",
    "    \n",
    "    x = np.sum( np.cos( x ) ) + np.exp( x[0] * x[1]  ) \n",
    "    \n",
    "    return x + noise \n",
    "    \n",
    "    \n",
    "def func2( x, sigma_sq, n): \n",
    "    \n",
    "    noise = np.random.normal(0, np.sqrt( sigma_sq ) )\n",
    "        \n",
    "    x = np.sum( np.sin(x ) ) + np.sum( np.cos(x - np.array( [1]* n ) ) ) + np.exp( x[0] * x[1] + x[1] ) \n",
    "    \n",
    "    return x + noise \n",
    "    "
   ]
  },
  {
   "cell_type": "markdown",
   "id": "2c61b7b2",
   "metadata": {},
   "source": [
    "# In Euclidean space"
   ]
  },
  {
   "cell_type": "markdown",
   "id": "3a7dd01f",
   "metadata": {},
   "source": [
    "## our method"
   ]
  },
  {
   "cell_type": "code",
   "execution_count": 82,
   "id": "69cd2305",
   "metadata": {},
   "outputs": [],
   "source": [
    "def new_est( func, n, noise_var, delta = 0.05 , m = 100 ):\n",
    "\n",
    "    avg_est = 0 \n",
    "    \n",
    "    for _ in range(m): \n",
    "\n",
    "        v = np.random.multivariate_normal(np.zeros(n), np.identity(n) )\n",
    "        v = v / np.linalg.norm(v) \n",
    "        \n",
    "        w = np.random.multivariate_normal(np.zeros(n), np.identity(n) )\n",
    "        w = w / np.linalg.norm(w) \n",
    "                \n",
    "        f1 = func( delta*v + delta*w, noise_var, n ) \n",
    "        f2 = func( delta*v - delta*w, noise_var, n ) \n",
    "        f3 = func( -delta*v + delta*w, noise_var, n ) \n",
    "        f4 = func( -delta*v - delta*w, noise_var, n ) \n",
    "\n",
    "        grad_est = (f1 - f2 - f3 + f4) / ( 8 * delta**2 ) * n**2 * ( np.outer(v,w) + np.outer(w,v) ) \n",
    "\n",
    "        avg_est = avg_est + grad_est  \n",
    "\n",
    "    avg_est = avg_est / m \n",
    "    \n",
    "    return avg_est "
   ]
  },
  {
   "cell_type": "markdown",
   "id": "ea4215ca",
   "metadata": {},
   "source": [
    "## Stein's method"
   ]
  },
  {
   "cell_type": "code",
   "execution_count": 83,
   "id": "356d10c3",
   "metadata": {},
   "outputs": [],
   "source": [
    "def steins_est( func, n, noise_var, delta = 0.05 , m = 100 ):\n",
    "\n",
    "    avg_est = 0 \n",
    "    \n",
    "    for _ in range(m):\n",
    "\n",
    "        v = np.random.multivariate_normal(np.zeros(n), np.identity(n) )\n",
    "                \n",
    "        f1 = func( delta*v, noise_var, n ) \n",
    "        f2 = func( -delta*v, noise_var, n ) \n",
    "        f3 = func( np.zeros(n), noise_var, n ) \n",
    "        \n",
    "        D2 = (f1 - 2*f3 + f2) / (2*delta**2) \n",
    "\n",
    "        grad_est = ( np.outer(v,v) - np.identity(n) ) * D2 \n",
    "\n",
    "        avg_est = avg_est + grad_est  \n",
    "        \n",
    "    avg_est = avg_est / m \n",
    "    \n",
    "    return avg_est"
   ]
  },
  {
   "cell_type": "markdown",
   "id": "ceb8ea7e",
   "metadata": {},
   "source": [
    "## entry-wise est"
   ]
  },
  {
   "cell_type": "code",
   "execution_count": 84,
   "id": "f7da8dfc",
   "metadata": {},
   "outputs": [],
   "source": [
    "def entry_est( func, n, noise_var, delta = 0.05 , m = 100 ):\n",
    "\n",
    "    H_est = np.zeros((n,n))\n",
    "    \n",
    "    for i in range(n): \n",
    "        for j in range(n):\n",
    "            \n",
    "            avg_est = 0\n",
    "            \n",
    "            for _ in range(m):\n",
    "                \n",
    "                I = delta * np.array( [1 if k==i else 0 for k in range(n) ] )\n",
    "                J = delta * np.array( [1 if k==j else 0 for k in range(n) ] )\n",
    "            \n",
    "                f1 = func( I + J, noise_var, n ) \n",
    "                f2 = func( I - J, noise_var, n ) \n",
    "                f3 = func( - I + J, noise_var, n ) \n",
    "                f4 = func( - I - J, noise_var, n ) \n",
    "\n",
    "                grad_est = (f1 - f2 - f3 + f4) / ( 4 * delta**2 ) \n",
    "                \n",
    "                avg_est = avg_est + grad_est  \n",
    "\n",
    "            avg_est = avg_est / m \n",
    "            \n",
    "            H_est[i,j] = avg_est \n",
    "    \n",
    "    return H_est "
   ]
  },
  {
   "cell_type": "code",
   "execution_count": 85,
   "id": "7d6a06b0",
   "metadata": {},
   "outputs": [],
   "source": [
    "def res(n, delta, true_hess, func, noise_var = 1, m = 100, N = 100 ): \n",
    "\n",
    "    new_errors = [] \n",
    "    stein_errors = [] \n",
    "    entry_errors = [] \n",
    "\n",
    "    for _ in range(N): \n",
    "        \n",
    "        new_errors.append( np.linalg.norm( new_est( func, n, noise_var, delta, int(m / 4. ) ) - true_hess , ord = 2 ) )\n",
    "        \n",
    "        stein_errors.append( np.linalg.norm( steins_est( func, n, noise_var, delta/np.sqrt(n), int(m/3.) ) - true_hess , ord = 2 ) )\n",
    "        \n",
    "        entry_errors.append( np.linalg.norm( entry_est( func, n, noise_var, delta, int(m/4./n/n) ) - true_hess , ord = 2 ) )\n",
    "            \n",
    "    return new_errors, stein_errors, entry_errors  "
   ]
  },
  {
   "cell_type": "code",
   "execution_count": 86,
   "id": "6a71fcda",
   "metadata": {},
   "outputs": [],
   "source": [
    "\n",
    "for n in Ns:\n",
    "    \n",
    "    for delta in DELTAs: \n",
    "    \n",
    "        true_hess = entry_est( func1, n, 0, delta = 0.001 , m = 1 ) # estimate the true Hessian matrix (no noise here)\n",
    "\n",
    "        new_errors, stein_errors, entry_errors = res(n, delta, true_hess, func1, noise_var = NOISE_VAR, m = SAMPLE_SIZE, N = 100 ) \n",
    "                \n",
    "        pickle.dump( (new_errors, stein_errors, entry_errors), open(  'euc_res_delta{0}_n{1}'.format(delta,n), 'wb' ) ) "
   ]
  },
  {
   "cell_type": "markdown",
   "id": "1907510d",
   "metadata": {},
   "source": [
    "# sphere"
   ]
  },
  {
   "cell_type": "code",
   "execution_count": 87,
   "id": "aefd7418",
   "metadata": {},
   "outputs": [],
   "source": [
    "def exp_map(v, n ): \n",
    "    \n",
    "    if (v == 0).all(): \n",
    "        return np.zeros(len(v) + 1) \n",
    "    else: \n",
    "        v = np.array(list(v) + [ 1 - np.sqrt( 1 - np.sum(v**2) ) ])\n",
    "        return v\n",
    "#         np.array(  [0] * (n-1) + [1] ) * np.cos( np.linalg.norm( v ) ) \\\n",
    "#                     + np.sin( np.linalg.norm( v ) ) * v / np.linalg.norm( v ) "
   ]
  },
  {
   "cell_type": "markdown",
   "id": "1ba5db4e",
   "metadata": {},
   "source": [
    "## our method"
   ]
  },
  {
   "cell_type": "code",
   "execution_count": 88,
   "id": "0b1c4d7a",
   "metadata": {},
   "outputs": [],
   "source": [
    "def new_est( func, n, noise_var, delta = 0.05 , m = 100 ):\n",
    "\n",
    "    avg_est = 0 \n",
    "    \n",
    "    for _ in range(m): \n",
    "\n",
    "        v = np.random.multivariate_normal(np.zeros(n), np.identity(n) )\n",
    "        v = v / np.linalg.norm(v) \n",
    "        \n",
    "        w = np.random.multivariate_normal(np.zeros(n), np.identity(n) )\n",
    "        w = w / np.linalg.norm(w) \n",
    "                \n",
    "        f1 = func( exp_map( delta*v + delta*w, n ), noise_var, n + 1 ) \n",
    "        f2 = func( exp_map( delta*v - delta*w, n ), noise_var, n + 1 ) \n",
    "        f3 = func( exp_map( -delta*v + delta*w, n ), noise_var, n + 1 ) \n",
    "        f4 = func( exp_map( -delta*v - delta*w, n ), noise_var, n + 1 ) \n",
    "\n",
    "        grad_est = (f1 - f2 - f3 + f4) / ( 8 * delta**2 ) * n**2 * ( np.outer(v,w) + np.outer(w,v) ) \n",
    "\n",
    "        avg_est = avg_est + grad_est  \n",
    "\n",
    "    avg_est = avg_est / m \n",
    "    \n",
    "    return avg_est "
   ]
  },
  {
   "cell_type": "markdown",
   "id": "8adc5200",
   "metadata": {},
   "source": [
    "## Stein's method"
   ]
  },
  {
   "cell_type": "code",
   "execution_count": 89,
   "id": "f1008f3f",
   "metadata": {},
   "outputs": [],
   "source": [
    "def steins_est( func, n, noise_var, delta = 0.05 , m = 100 ):\n",
    "\n",
    "    avg_est = 0 \n",
    "    \n",
    "    for _ in range(m):\n",
    "\n",
    "        v = np.random.multivariate_normal(np.zeros(n), np.identity(n) )\n",
    "                \n",
    "        f1 = func( exp_map( delta*v, n ), noise_var, n + 1 ) \n",
    "        f2 = func( exp_map( -delta*v, n ), noise_var, n + 1 ) \n",
    "        f3 = func( exp_map( np.zeros(n), n), noise_var, n + 1 ) \n",
    "        \n",
    "        D2 = (f1 - 2*f3 + f2) / (2*delta**2) \n",
    "\n",
    "        grad_est = ( np.outer(v,v) - np.identity(n) ) * D2 \n",
    "\n",
    "        avg_est = avg_est + grad_est \n",
    "        \n",
    "    avg_est = avg_est / m \n",
    "    \n",
    "    return avg_est"
   ]
  },
  {
   "cell_type": "markdown",
   "id": "37cdd5d2",
   "metadata": {},
   "source": [
    "## entry-wise est"
   ]
  },
  {
   "cell_type": "code",
   "execution_count": 90,
   "id": "8e69fe4f",
   "metadata": {},
   "outputs": [],
   "source": [
    "def entry_est( func, n, noise_var, delta = 0.05 , m = 100 ):\n",
    "\n",
    "    H_est = np.zeros((n,n))\n",
    "    \n",
    "    for i in range(n): \n",
    "        for j in range(n):\n",
    "            \n",
    "            avg_est = 0\n",
    "            \n",
    "            for _ in range(m):\n",
    "                \n",
    "                I = delta * np.array( [1 if k==i else 0 for k in range(n) ] )\n",
    "                J = delta * np.array( [1 if k==j else 0 for k in range(n) ] )\n",
    "                \n",
    "                f1 = func( exp_map( I + J, n ) , noise_var, n + 1 ) \n",
    "                f2 = func( exp_map( I - J, n ), noise_var, n + 1 ) \n",
    "                f3 = func( exp_map( - I + J, n ), noise_var, n + 1 ) \n",
    "                f4 = func( exp_map( - I - J, n ), noise_var, n + 1 ) \n",
    "\n",
    "                hess_est = (f1 - f2 - f3 + f4) / ( 4 * delta**2 ) \n",
    "                \n",
    "                avg_est = avg_est + hess_est  \n",
    "\n",
    "            avg_est = avg_est / m \n",
    "            \n",
    "            H_est[i,j] = avg_est \n",
    "    \n",
    "    return H_est "
   ]
  },
  {
   "cell_type": "code",
   "execution_count": 91,
   "id": "5f522688",
   "metadata": {},
   "outputs": [],
   "source": [
    "def res(n, delta, true_hess, func, noise_var = 1, m = 100, N = 100 ): \n",
    "\n",
    "    new_errors = [] \n",
    "    stein_errors = [] \n",
    "    entry_errors = [] \n",
    "\n",
    "    for _ in range(N): \n",
    "        \n",
    "        new_errors.append( np.linalg.norm( new_est( func, n, noise_var, delta, int(m / 4. ) ) - true_hess , ord = 2 ) )\n",
    "        \n",
    "        stein_errors.append( np.linalg.norm( steins_est( func, n, noise_var, delta/np.sqrt(n), int(m/3.) ) - true_hess , ord = 2 ) )\n",
    "        \n",
    "        entry_errors.append( np.linalg.norm( entry_est( func, n, noise_var, delta, int(m/4./n/n) ) - true_hess , ord = 2 ) )\n",
    "            \n",
    "    return new_errors, stein_errors, entry_errors "
   ]
  },
  {
   "cell_type": "code",
   "execution_count": 92,
   "id": "c6a68f9d",
   "metadata": {},
   "outputs": [],
   "source": [
    "\n",
    "for n in Ns: \n",
    "    \n",
    "    for delta in DELTAs: \n",
    "    \n",
    "        true_hess = entry_est( func1, n , 0, delta = 0.001 , m = 1 ) \n",
    "\n",
    "        new_errors, stein_errors, entry_errors = res(n , delta, true_hess, func1, noise_var = NOISE_VAR, m = SAMPLE_SIZE, N = 100 ) \n",
    "        \n",
    "        pickle.dump( (new_errors, stein_errors, entry_errors), open(  'sphere_res_delta{0}_n{1}'.format(delta,n), 'wb' ) ) "
   ]
  },
  {
   "cell_type": "markdown",
   "id": "8f2dcc94",
   "metadata": {},
   "source": [
    "# function surface case"
   ]
  },
  {
   "cell_type": "code",
   "execution_count": 93,
   "id": "fd6a5d31",
   "metadata": {},
   "outputs": [],
   "source": [
    "def exp_map(v, n ): \n",
    "    \n",
    "    h = np.sum( v[0:int(n/2.)] ** 2 ) - np.sum( v[int(n/2.):] ** 2 )\n",
    "    \n",
    "    v = np.array( list(v) + [h] ) \n",
    "    \n",
    "    return v \n",
    "    "
   ]
  },
  {
   "cell_type": "markdown",
   "id": "2fed611a",
   "metadata": {},
   "source": [
    "## our method"
   ]
  },
  {
   "cell_type": "code",
   "execution_count": 94,
   "id": "15bc8e55",
   "metadata": {},
   "outputs": [],
   "source": [
    "def new_est( func, n, noise_var, delta = 0.05 , m = 100 ):\n",
    "\n",
    "    avg_est = 0 \n",
    "    \n",
    "    for _ in range(m): \n",
    "\n",
    "        v = np.random.multivariate_normal(np.zeros(n), np.identity(n) )\n",
    "        v = v / np.linalg.norm(v) \n",
    "        \n",
    "        w = np.random.multivariate_normal(np.zeros(n), np.identity(n) )\n",
    "        w = w / np.linalg.norm(w) \n",
    "                \n",
    "        f1 = func( exp_map( delta*v + delta*w, n ), noise_var, n + 1 ) \n",
    "        f2 = func( exp_map( delta*v - delta*w, n ), noise_var, n + 1 ) \n",
    "        f3 = func( exp_map( -delta*v + delta*w, n ), noise_var, n + 1 ) \n",
    "        f4 = func( exp_map( -delta*v - delta*w, n ), noise_var, n + 1 ) \n",
    "\n",
    "        grad_est = (f1 - f2 - f3 + f4) / ( 8 * delta**2 ) * n**2 * ( np.outer(v,w) + np.outer(w,v) ) \n",
    "\n",
    "        avg_est = avg_est + grad_est  \n",
    "\n",
    "    avg_est = avg_est / m \n",
    "    \n",
    "    return avg_est "
   ]
  },
  {
   "cell_type": "markdown",
   "id": "5bac6769",
   "metadata": {},
   "source": [
    "## Stein's method"
   ]
  },
  {
   "cell_type": "code",
   "execution_count": 95,
   "id": "d90776c2",
   "metadata": {},
   "outputs": [],
   "source": [
    "def steins_est( func, n, noise_var, delta = 0.05 , m = 100 ):\n",
    "\n",
    "    avg_est = 0 \n",
    "    \n",
    "    for _ in range(m):\n",
    "\n",
    "        v = np.random.multivariate_normal(np.zeros(n), np.identity(n) )\n",
    "                \n",
    "        f1 = func( exp_map( delta*v, n ), noise_var, n + 1 ) \n",
    "        f2 = func( exp_map( -delta*v, n ), noise_var, n + 1 ) \n",
    "        f3 = func( exp_map(np.zeros(n), n), noise_var, n + 1 ) \n",
    "        \n",
    "        D2 = (f1 - 2*f3 + f2) / (2*delta**2) \n",
    "\n",
    "        grad_est = ( np.outer(v,v) - np.identity(n) ) * D2 \n",
    "\n",
    "        avg_est = avg_est + grad_est \n",
    "        \n",
    "    avg_est = avg_est / m \n",
    "    \n",
    "    return avg_est"
   ]
  },
  {
   "cell_type": "markdown",
   "id": "29280eda",
   "metadata": {},
   "source": [
    "## entry-wise"
   ]
  },
  {
   "cell_type": "code",
   "execution_count": 96,
   "id": "6d78fe2a",
   "metadata": {},
   "outputs": [],
   "source": [
    "def entry_est( func, n, noise_var, delta = 0.05 , m = 100 ):\n",
    "\n",
    "    H_est = np.zeros((n,n))\n",
    "    \n",
    "    for i in range(n): \n",
    "        for j in range(n):\n",
    "            \n",
    "            avg_est = 0\n",
    "            \n",
    "            for _ in range(m):\n",
    "                \n",
    "                I = delta * np.array( [1 if k==i else 0 for k in range(n) ] )\n",
    "                J = delta * np.array( [1 if k==j else 0 for k in range(n) ] )\n",
    "            \n",
    "                f1 = func( exp_map( I + J, n ) , noise_var, n + 1 ) \n",
    "                f2 = func( exp_map( I - J, n ), noise_var, n + 1 ) \n",
    "                f3 = func( exp_map( - I + J, n ), noise_var, n + 1 ) \n",
    "                f4 = func( exp_map( - I - J, n ), noise_var, n + 1 ) \n",
    "\n",
    "                hess_est = (f1 - f2 - f3 + f4) / ( 4 * delta**2 ) \n",
    "                \n",
    "                avg_est = avg_est + hess_est  \n",
    "\n",
    "            avg_est = avg_est / m \n",
    "            \n",
    "            H_est[i,j] = avg_est \n",
    "    \n",
    "    return H_est "
   ]
  },
  {
   "cell_type": "code",
   "execution_count": 97,
   "id": "71d09526",
   "metadata": {},
   "outputs": [],
   "source": [
    "def res(n, delta, true_hess, func, noise_var = 1, m = 100, N = 100 ): \n",
    "\n",
    "    new_errors = [] \n",
    "    stein_errors = [] \n",
    "    entry_errors = [] \n",
    "\n",
    "    for _ in range(N): \n",
    "        \n",
    "        new_errors.append( np.linalg.norm( new_est( func, n, noise_var, delta, int(m / 4. ) ) - true_hess , ord = 2 ) )\n",
    "        \n",
    "        stein_errors.append( np.linalg.norm( steins_est( func, n, noise_var, delta/np.sqrt(n), int(m/3.) ) - true_hess , ord = 2 ) )\n",
    "        \n",
    "        entry_errors.append( np.linalg.norm( entry_est( func, n, noise_var, delta, int(m/4./n/n) ) - true_hess , ord = 2 ) )\n",
    "            \n",
    "    return new_errors, stein_errors, entry_errors  "
   ]
  },
  {
   "cell_type": "code",
   "execution_count": 98,
   "id": "01727161",
   "metadata": {},
   "outputs": [],
   "source": [
    "for n in Ns:\n",
    "    \n",
    "    for delta in DELTAs: \n",
    "    \n",
    "        true_hess = entry_est( func1, n, 0, delta = 0.001 , m = 1 ) \n",
    "\n",
    "        new_errors, stein_errors, entry_errors = res(n , delta, true_hess, func1, noise_var = NOISE_VAR, m = SAMPLE_SIZE, N = 30 ) \n",
    "                  \n",
    "        pickle.dump( (new_errors, stein_errors, entry_errors), open(  'hyperbolic_res_delta{0}_n{1}'.format(delta,n), 'wb' ) ) "
   ]
  },
  {
   "cell_type": "code",
   "execution_count": null,
   "id": "e168e50f",
   "metadata": {},
   "outputs": [],
   "source": []
  },
  {
   "cell_type": "code",
   "execution_count": null,
   "id": "b1201dd0",
   "metadata": {},
   "outputs": [],
   "source": []
  },
  {
   "cell_type": "code",
   "execution_count": null,
   "id": "9f6c77e9",
   "metadata": {},
   "outputs": [],
   "source": []
  },
  {
   "cell_type": "code",
   "execution_count": null,
   "id": "51102035",
   "metadata": {},
   "outputs": [],
   "source": []
  },
  {
   "cell_type": "code",
   "execution_count": null,
   "id": "2f3d86a9",
   "metadata": {},
   "outputs": [],
   "source": []
  }
 ],
 "metadata": {
  "kernelspec": {
   "display_name": "Python 3",
   "language": "python",
   "name": "python3"
  },
  "language_info": {
   "codemirror_mode": {
    "name": "ipython",
    "version": 3
   },
   "file_extension": ".py",
   "mimetype": "text/x-python",
   "name": "python",
   "nbconvert_exporter": "python",
   "pygments_lexer": "ipython3",
   "version": "3.8.8"
  }
 },
 "nbformat": 4,
 "nbformat_minor": 5
}
