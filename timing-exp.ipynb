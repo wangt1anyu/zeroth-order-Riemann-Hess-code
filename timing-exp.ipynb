{
 "cells": [
  {
   "cell_type": "code",
   "execution_count": 4,
   "id": "62d7445f",
   "metadata": {},
   "outputs": [],
   "source": [
    "import numpy as np \n",
    "\n",
    "from scipy.linalg import expm, sinm, cosm\n",
    "\n",
    "import time"
   ]
  },
  {
   "cell_type": "code",
   "execution_count": 5,
   "id": "a07d4c7b",
   "metadata": {},
   "outputs": [],
   "source": [
    "\n",
    "def func1( x, sigma_sq, n): \n",
    "    \n",
    "    noise = np.random.normal(0, np.sqrt( sigma_sq ) )\n",
    "    \n",
    "#     A = np.linspace(1,n**2, n)\n",
    "    \n",
    "    x = np.sum( np.cos( x ) ) + np.exp( x[0] * x[1]  ) \n",
    "    \n",
    "    return x + noise \n",
    "    \n",
    "    \n",
    "def func2( x, sigma_sq, n): \n",
    "    \n",
    "    noise = np.random.normal(0, np.sqrt( sigma_sq ) )\n",
    "        \n",
    "    x = np.sum( np.sin(x ) ) + np.sum( np.cos(x - np.array( [1]* n ) ) ) + np.exp( x[0] * x[1] + x[1] ) \n",
    "    \n",
    "    return x + noise \n",
    "\n",
    "\n",
    "def func( x, y, sigma_sq = 0): \n",
    "    \n",
    "    noise = np.random.normal(0, np.sqrt( sigma_sq ) ) \n",
    "    \n",
    "    return np.exp(x*y) "
   ]
  },
  {
   "cell_type": "code",
   "execution_count": 6,
   "id": "30acf604",
   "metadata": {},
   "outputs": [],
   "source": [
    "def exp_map(x,u): \n",
    "    \n",
    "#     return ( x[0] * np.exp(u[0]) , x[1] * np.exp( u[1] ) )\n",
    "    return ( x[0] * np.exp(u[0]**3 - u[1]) , x[1] * np.exp( u[1] ) ) "
   ]
  },
  {
   "cell_type": "code",
   "execution_count": 7,
   "id": "5eaf1731",
   "metadata": {},
   "outputs": [],
   "source": [
    "# def exp_map(x,u): # exponential map for Poincare half plane\n",
    "    \n",
    "#     # we ignore the case u[0] = 0\n",
    "    \n",
    "#     1./x[1]**2\n",
    "        \n",
    "        \n",
    "    \n",
    "# #     return ( x[0] * np.exp(u[0]) , x[1] * np.exp( u[1] ) )\n",
    "#     return ( x[0] * np.exp(u[0]**2 - u[1]) , x[1] * np.exp( u[1] ) )"
   ]
  },
  {
   "cell_type": "code",
   "execution_count": null,
   "id": "081d74f4",
   "metadata": {},
   "outputs": [],
   "source": []
  },
  {
   "cell_type": "code",
   "execution_count": null,
   "id": "51ed1640",
   "metadata": {},
   "outputs": [],
   "source": []
  },
  {
   "cell_type": "code",
   "execution_count": 8,
   "id": "68d9d770",
   "metadata": {},
   "outputs": [],
   "source": [
    "# def exp_map(x,u):\n",
    "    \n",
    "#     return ( x[0] + u[0] , x[1] + u[1] ) "
   ]
  },
  {
   "cell_type": "code",
   "execution_count": 9,
   "id": "17eab2ec",
   "metadata": {},
   "outputs": [],
   "source": [
    "DELTAs = [0.1,0.01,0.001,0.0001,0.00001] # deltas\n",
    "\n",
    "Hs = []\n",
    "\n",
    "x = (1, 1)\n",
    "\n",
    "for d in DELTAs:\n",
    "        \n",
    "    p = exp_map(x,(d+d,0) )\n",
    "    f1 = func( p[0], p[1] )\n",
    "    \n",
    "    p = exp_map(x,(d-d,0) )\n",
    "    f2 = func( p[0], p[1] )\n",
    "    \n",
    "    p = exp_map(x,(d-d,0) )\n",
    "    f3 = func( p[0], p[1] )\n",
    "    \n",
    "    p = exp_map(x,(-d-d,0) )\n",
    "    f4 = func( p[0], p[1] )\n",
    "    \n",
    "    H11 = (f1 - f2 - f2 + f4)/4/d**2\n",
    "    \n",
    "    \n",
    "    \n",
    "    p = exp_map(x,(d,d) )\n",
    "    f1 = func( p[0], p[1] )\n",
    "    \n",
    "    p = exp_map(x,(d,-d) )\n",
    "    f2 = func( p[0], p[1] )\n",
    "    \n",
    "    p = exp_map(x,(-d,d) )\n",
    "    f3 = func( p[0], p[1] )\n",
    "    \n",
    "    p = exp_map(x,(-d,-d) )\n",
    "    f4 = func( p[0], p[1] )\n",
    "    \n",
    "    H12 = (f1 - f2 - f2 + f4)/4/d**2\n",
    "    \n",
    "    \n",
    "    \n",
    "    \n",
    "    p = exp_map(x,(d,d) )\n",
    "    f1 = func( p[0], p[1] )\n",
    "    \n",
    "    p = exp_map(x,(d,-d) )\n",
    "    f2 = func( p[0], p[1] )\n",
    "    \n",
    "    p = exp_map(x,(-d,d) )\n",
    "    f3 = func( p[0], p[1] )\n",
    "    \n",
    "    p = exp_map(x,(-d,-d) )\n",
    "    f4 = func( p[0], p[1] )\n",
    "    \n",
    "    H21 = (f1 - f2 - f2 + f4)/4/d**2\n",
    "    \n",
    "    \n",
    "    \n",
    "    \n",
    "    p = exp_map(x,(0,d+d) )\n",
    "    f1 = func( p[0], p[1] )\n",
    "    \n",
    "    p = exp_map(x,(0,d-d) )\n",
    "    f2 = func( p[0], p[1] )\n",
    "    \n",
    "    p = exp_map(x,(0,d-d) )\n",
    "    f3 = func( p[0], p[1] )\n",
    "    \n",
    "    p = exp_map(x,(0,-d-d) )\n",
    "    f4 = func( p[0], p[1] )\n",
    "    \n",
    "    H22 = (f1 - f2 - f2 + f4)/4/d**2\n",
    "    \n",
    "    \n",
    "    \n",
    "    Hs.append( [[H11, H12], [H21, H22]] )"
   ]
  },
  {
   "cell_type": "code",
   "execution_count": 10,
   "id": "d8949bde",
   "metadata": {},
   "outputs": [
    {
     "data": {
      "text/plain": [
       "[[[0.008698849801203055, -0.13591420468476165], [-0.13591420468476165, 0.0]],\n",
       " [[8.698519682326378e-07, -0.01359140914147794], [-0.01359140914147794, 0.0]],\n",
       " [[1.1102230246251565e-10, -0.0013591407999058447],\n",
       "  [-0.0013591407999058447, 0.0]],\n",
       " [[1.1102230246251565e-08, -0.00013592460490485792],\n",
       "  [-0.00013592460490485792, 0.0]],\n",
       " [[0.0, -1.5543122344752188e-05], [-1.5543122344752188e-05, 0.0]]]"
      ]
     },
     "execution_count": 10,
     "metadata": {},
     "output_type": "execute_result"
    }
   ],
   "source": [
    "Hs"
   ]
  },
  {
   "cell_type": "code",
   "execution_count": null,
   "id": "4f51f5f9",
   "metadata": {},
   "outputs": [],
   "source": []
  },
  {
   "cell_type": "code",
   "execution_count": null,
   "id": "bef9b415",
   "metadata": {},
   "outputs": [],
   "source": []
  },
  {
   "cell_type": "code",
   "execution_count": null,
   "id": "e50ec8c8",
   "metadata": {},
   "outputs": [],
   "source": []
  },
  {
   "cell_type": "code",
   "execution_count": null,
   "id": "9a603158",
   "metadata": {},
   "outputs": [],
   "source": []
  },
  {
   "cell_type": "code",
   "execution_count": null,
   "id": "2250e46f",
   "metadata": {},
   "outputs": [],
   "source": []
  },
  {
   "cell_type": "markdown",
   "id": "52a965c1",
   "metadata": {},
   "source": [
    "# timing experiments"
   ]
  },
  {
   "cell_type": "code",
   "execution_count": 11,
   "id": "4f9a6953",
   "metadata": {},
   "outputs": [],
   "source": [
    "def new_est_timing( func, n, noise_var = 0.0025, delta = 0.05 , m = 1, rep = 1 ):\n",
    "\n",
    "    \n",
    "    sampling_times = []\n",
    "    \n",
    "    eval_times = []\n",
    "    \n",
    "    comp_times = []\n",
    "    \n",
    "    \n",
    "    for _ in range(rep):  \n",
    "        \n",
    "        start_sampling = time.time()\n",
    "\n",
    "        for _ in range(m): \n",
    "\n",
    "            v = np.random.normal(0, 1, n )\n",
    "#             v = np.diag(v)\n",
    "            v = v / np.linalg.norm(v) \n",
    "\n",
    "            w = np.random.normal(0, 1, n )\n",
    "#             v = np.diag(v)\n",
    "            w = w / np.linalg.norm(w) \n",
    "            \n",
    "            del v; del w\n",
    "\n",
    "        end_sampling = time.time() \n",
    "\n",
    "        time_sampling = end_sampling - start_sampling \n",
    "\n",
    "        sampling_times.append(time_sampling )\n",
    "\n",
    "        start_eval = time.time() \n",
    "\n",
    "        for _ in range(m): \n",
    "\n",
    "            v = np.random.normal(0, 1, n )\n",
    "#             v = np.diag(v)\n",
    "            v = v / np.linalg.norm(v) \n",
    "\n",
    "            w = np.random.normal(0, 1, n )\n",
    "            w = w / np.linalg.norm(w) \n",
    "\n",
    "            f1 = func( delta*v + delta*w, noise_var, n ) \n",
    "            f2 = func( delta*v - delta*w, noise_var, n ) \n",
    "            f3 = func( -delta*v + delta*w, noise_var, n ) \n",
    "            f4 = func( -delta*v - delta*w, noise_var, n ) \n",
    "            \n",
    "            del v; del w; del f1; del f2; del f3; del f4\n",
    "#             gc.collect()\n",
    "\n",
    "        end_eval = time.time() \n",
    "\n",
    "        time_eval = end_eval - start_eval \n",
    "\n",
    "        eval_times.append(time_eval)\n",
    "\n",
    "        start_comp = time.time()\n",
    "\n",
    "        for _ in range(m):\n",
    "\n",
    "            v = np.random.normal(0, 1, n )\n",
    "#             v = np.diag(v)\n",
    "            v = v / np.linalg.norm(v) \n",
    "\n",
    "            w = np.random.normal(0, 1, n )\n",
    "#             w = np.diag(w)\n",
    "            w = w / np.linalg.norm(w) \n",
    "\n",
    "            f1 = func( delta*v + delta*w, noise_var, n ) \n",
    "            f2 = func( delta*v - delta*w, noise_var, n ) \n",
    "            f3 = func( -delta*v + delta*w, noise_var, n ) \n",
    "            f4 = func( -delta*v - delta*w, noise_var, n ) \n",
    "\n",
    "            grad_est = (f1 - f2 - f3 + f4) / ( 8 * delta**2 ) * n**2 * ( np.outer(v,w) + np.outer(w,v) ) \n",
    "            \n",
    "            del v; del w; del f1; del f2; del f3; del f4; del grad_est\n",
    "            \n",
    "#             gc.collect()\n",
    "\n",
    "        end_comp = time.time() \n",
    "\n",
    "        time_comp = end_comp - start_comp\n",
    "\n",
    "        comp_times.append(time_comp)\n",
    "\n",
    "#         avg_est = avg_est + grad_est  \n",
    "\n",
    "#     avg_est = avg_est / m \n",
    "    \n",
    "    return sampling_times, eval_times, comp_times "
   ]
  },
  {
   "cell_type": "code",
   "execution_count": 18,
   "id": "7afc2b1f",
   "metadata": {},
   "outputs": [],
   "source": [
    "def steins_est_timing( func, n, noise_var = 0.0025, delta = 0.01 , m = 100, rep = 100 ):\n",
    "\n",
    "#     avg_est = 0 \n",
    "\n",
    "    sampling_times = []\n",
    "    \n",
    "    eval_times = []\n",
    "    \n",
    "    comp_times = [] \n",
    "    \n",
    "    for _ in range(rep):\n",
    "    \n",
    "        start_sampling = time.time()\n",
    "\n",
    "        for _ in range(m): \n",
    "\n",
    "            v = np.random.normal(0, 1, n )\n",
    "#             v = np.diag(v)\n",
    "            \n",
    "            del v \n",
    "\n",
    "        end_sampling = time.time() \n",
    "        time_sampling = end_sampling - start_sampling \n",
    "        sampling_times.append(time_sampling ) \n",
    "        \n",
    "        # -------------------------- \n",
    "        \n",
    "        start_eval = time.time() \n",
    "    \n",
    "        for _ in range(m): \n",
    "\n",
    "            v = np.random.normal(0, 1, n ) \n",
    "#             v = np.diag(v) \n",
    "\n",
    "            f1 = func( delta*v, noise_var, n ) \n",
    "            f2 = func( -delta*v, noise_var, n ) \n",
    "            f3 = func( np.zeros(n), noise_var, n ) \n",
    "            \n",
    "        end_eval = time.time() \n",
    "        time_eval = end_eval - start_eval \n",
    "        eval_times.append( time_eval ) \n",
    "        \n",
    "        #----------------------------------- \n",
    "        \n",
    "        start_comp = time.time()\n",
    "        \n",
    "        for _ in range(m):\n",
    "\n",
    "            v = np.random.normal(0, 1, n )\n",
    "#             v = np.diag(v) \n",
    "\n",
    "            f1 = func( delta*v, noise_var, n ) \n",
    "            f2 = func( -delta*v, noise_var, n ) \n",
    "            f3 = func( np.zeros(n), noise_var, n ) \n",
    "\n",
    "            D2 = (f1 - 2*f3 + f2) / (2*delta**2) \n",
    "\n",
    "            grad_est = ( np.outer(v,v) - np.identity(n) ) * D2 \n",
    "            \n",
    "        end_comp = time.time()\n",
    "        \n",
    "        time_comp = end_comp - start_comp \n",
    "        comp_times.append( time_comp ) \n",
    "\n",
    "#         avg_est = avg_est + grad_est  \n",
    "        \n",
    "#     avg_est = avg_est / m \n",
    "    \n",
    "    return sampling_times, eval_times, comp_times "
   ]
  },
  {
   "cell_type": "code",
   "execution_count": 60,
   "id": "7c83dae4",
   "metadata": {},
   "outputs": [],
   "source": [
    "sampling_times, eval_times, comp_times = new_est_timing( func1, 8 , m = 10000, rep = 10 ) \n",
    "\n",
    "sampling_times_stein, eval_times_stein, comp_times_stein = steins_est_timing( func1, 8 , m = 10000, rep = 10 ) "
   ]
  },
  {
   "cell_type": "code",
   "execution_count": 61,
   "id": "d2eacb6b",
   "metadata": {
    "scrolled": true
   },
   "outputs": [
    {
     "name": "stdout",
     "output_type": "stream",
     "text": [
      "0.15797748565673828 0.0031285555349549717\n"
     ]
    }
   ],
   "source": [
    "print( np.mean( sampling_times ), np.std(sampling_times) )"
   ]
  },
  {
   "cell_type": "code",
   "execution_count": 62,
   "id": "85c46252",
   "metadata": {},
   "outputs": [
    {
     "name": "stdout",
     "output_type": "stream",
     "text": [
      "0.5762594223022461 0.003590354661671788\n"
     ]
    }
   ],
   "source": [
    "print( np.mean( eval_times ), np.std( eval_times) )"
   ]
  },
  {
   "cell_type": "code",
   "execution_count": 63,
   "id": "da03019f",
   "metadata": {},
   "outputs": [
    {
     "name": "stdout",
     "output_type": "stream",
     "text": [
      "0.6977411985397339 0.0040099644223627155\n"
     ]
    }
   ],
   "source": [
    "print( np.mean( comp_times ), np.std( comp_times) )"
   ]
  },
  {
   "cell_type": "code",
   "execution_count": null,
   "id": "cb8c850e",
   "metadata": {},
   "outputs": [],
   "source": []
  },
  {
   "cell_type": "code",
   "execution_count": 64,
   "id": "58c9b912",
   "metadata": {},
   "outputs": [
    {
     "name": "stdout",
     "output_type": "stream",
     "text": [
      "0.025734615325927735 0.0011615425578557481\n"
     ]
    }
   ],
   "source": [
    "print( np.mean( sampling_times_stein ), np.std( sampling_times_stein ) )"
   ]
  },
  {
   "cell_type": "code",
   "execution_count": 65,
   "id": "f487770f",
   "metadata": {},
   "outputs": [
    {
     "name": "stdout",
     "output_type": "stream",
     "text": [
      "0.3019917726516724 0.0023926765862216873\n"
     ]
    }
   ],
   "source": [
    "print( np.mean( eval_times_stein ), np.std( eval_times_stein ) )"
   ]
  },
  {
   "cell_type": "code",
   "execution_count": 66,
   "id": "826321d3",
   "metadata": {},
   "outputs": [
    {
     "name": "stdout",
     "output_type": "stream",
     "text": [
      "0.42216830253601073 0.0027861916419257542\n"
     ]
    }
   ],
   "source": [
    "print( np.mean( comp_times_stein ), np.std( comp_times_stein ) )"
   ]
  },
  {
   "cell_type": "code",
   "execution_count": 67,
   "id": "2d3bc59a",
   "metadata": {},
   "outputs": [
    {
     "data": {
      "text/plain": [
       "[0.024933576583862305,\n",
       " 0.025930404663085938,\n",
       " 0.024931669235229492,\n",
       " 0.028925418853759766,\n",
       " 0.024938106536865234,\n",
       " 0.024934053421020508,\n",
       " 0.025928735733032227,\n",
       " 0.02593064308166504,\n",
       " 0.024962663650512695,\n",
       " 0.02593088150024414]"
      ]
     },
     "execution_count": 67,
     "metadata": {},
     "output_type": "execute_result"
    }
   ],
   "source": [
    "sampling_times_stein"
   ]
  },
  {
   "cell_type": "code",
   "execution_count": 68,
   "id": "3cb283e2",
   "metadata": {
    "scrolled": true
   },
   "outputs": [
    {
     "data": {
      "text/plain": [
       "[0.4188835620880127,\n",
       " 0.42087650299072266,\n",
       " 0.42386674880981445,\n",
       " 0.422870397567749,\n",
       " 0.4218721389770508,\n",
       " 0.4228677749633789,\n",
       " 0.427854061126709,\n",
       " 0.4228396415710449,\n",
       " 0.4168820381164551,\n",
       " 0.4228701591491699]"
      ]
     },
     "execution_count": 68,
     "metadata": {},
     "output_type": "execute_result"
    }
   ],
   "source": [
    "comp_times_stein"
   ]
  },
  {
   "cell_type": "code",
   "execution_count": 39,
   "id": "c4399cc9",
   "metadata": {},
   "outputs": [
    {
     "data": {
      "text/plain": [
       "'3.8.8 (default, Apr 13 2021, 15:08:03) [MSC v.1916 64 bit (AMD64)]'"
      ]
     },
     "execution_count": 39,
     "metadata": {},
     "output_type": "execute_result"
    }
   ],
   "source": [
    "import sys\n",
    "\n",
    "sys.version"
   ]
  },
  {
   "cell_type": "code",
   "execution_count": 45,
   "id": "9dd89a37",
   "metadata": {},
   "outputs": [
    {
     "data": {
      "text/plain": [
       "1659032643.4402635"
      ]
     },
     "execution_count": 45,
     "metadata": {},
     "output_type": "execute_result"
    }
   ],
   "source": [
    "time.time()"
   ]
  },
  {
   "cell_type": "code",
   "execution_count": 46,
   "id": "baf517b0",
   "metadata": {},
   "outputs": [
    {
     "data": {
      "text/plain": [
       "1659032650.6711578"
      ]
     },
     "execution_count": 46,
     "metadata": {},
     "output_type": "execute_result"
    }
   ],
   "source": [
    "time.time()"
   ]
  },
  {
   "cell_type": "code",
   "execution_count": null,
   "id": "e541fb52",
   "metadata": {},
   "outputs": [],
   "source": []
  }
 ],
 "metadata": {
  "kernelspec": {
   "display_name": "Python 3",
   "language": "python",
   "name": "python3"
  },
  "language_info": {
   "codemirror_mode": {
    "name": "ipython",
    "version": 3
   },
   "file_extension": ".py",
   "mimetype": "text/x-python",
   "name": "python",
   "nbconvert_exporter": "python",
   "pygments_lexer": "ipython3",
   "version": "3.8.8"
  }
 },
 "nbformat": 4,
 "nbformat_minor": 5
}
