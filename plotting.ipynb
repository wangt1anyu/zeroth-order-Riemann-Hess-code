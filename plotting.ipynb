{
 "cells": [
  {
   "cell_type": "code",
   "execution_count": 1,
   "id": "f4bf1db0",
   "metadata": {},
   "outputs": [],
   "source": [
    "import numpy as np \n",
    "import pandas as pd \n",
    "\n",
    "import pickle\n",
    "import itertools\n",
    "\n",
    "import seaborn \n",
    "\n",
    "from pylab import *\n",
    "\n",
    "import matplotlib.ticker as mtick\n",
    "from matplotlib.ticker import ScalarFormatter\n",
    "import matplotlib.pyplot as plt \n",
    "%matplotlib inline  "
   ]
  },
  {
   "cell_type": "code",
   "execution_count": 2,
   "id": "578e3146",
   "metadata": {},
   "outputs": [],
   "source": [
    "\n",
    "\n",
    "def adjacent_values(vals, q1, q3):\n",
    "    upper_adjacent_value = q3 + (q3 - q1) * 1.5\n",
    "    upper_adjacent_value = np.clip(upper_adjacent_value, q3, vals[-1])\n",
    "\n",
    "    lower_adjacent_value = q1 - (q3 - q1) * 1.5\n",
    "    lower_adjacent_value = np.clip(lower_adjacent_value, vals[0], q1)\n",
    "    return lower_adjacent_value, upper_adjacent_value\n",
    "\n",
    "\n",
    "def set_axis_style(ax, labels):\n",
    "    ax.xaxis.set_tick_params(direction='out')\n",
    "    ax.xaxis.set_ticks_position('bottom')\n",
    "    ax.set_xticks(np.arange(1, len(labels) + 1), labels=labels)\n",
    "    ax.set_xlim(0.25, len(labels) + 0.75)\n",
    "    ax.set_xlabel('Sample name')\n",
    "\n",
    "\n",
    "# create test data\n",
    "# np.random.seed(19680801)\n",
    "\n"
   ]
  },
  {
   "cell_type": "code",
   "execution_count": 10,
   "id": "2eb25899",
   "metadata": {},
   "outputs": [],
   "source": [
    "def save_plot(data, n, delta, name = 'test'):\n",
    "    \n",
    "    plt.rcParams['font.size'] = 17.5\n",
    "    plt.rcParams['figure.figsize'] = 4,4\n",
    "\n",
    "    fig, (ax1) = plt.subplots(nrows=1, ncols=1, figsize=(5, 4), sharey=True)\n",
    "\n",
    "#     ax1.set_xlabel('$n = {0}$, $\\delta = {1}$'.format(n,delta))\n",
    "    ax1.set_ylabel('Estimation Error')\n",
    "    ax1.violinplot(data)\n",
    "\n",
    "#     for pc in parts['bodies']:\n",
    "#         pc.set_facecolor('#D43F3A')\n",
    "#         pc.set_edgecolor('black')\n",
    "#         pc.set_alpha(1)\n",
    "\n",
    "    quartile1, medians, quartile3 = np.percentile(data, [25, 50, 75], axis=1)\n",
    "    whiskers = np.array([\n",
    "        adjacent_values(sorted_array, q1, q3)\n",
    "        for sorted_array, q1, q3 in zip(data, quartile1, quartile3)])\n",
    "    whiskers_min, whiskers_max = whiskers[:, 0], whiskers[:, 1]\n",
    "\n",
    "    # set style for the axes \n",
    "    labels = ['Our Method', \"Stein's\", 'Entry-wise'] \n",
    "    \n",
    "    plt.xticks([1,2,3], labels)\n",
    "\n",
    "#     plt.subplots_adjust(bottom=0.15, wspace=0.05)\n",
    "    \n",
    "    plt.tight_layout()\n",
    "    \n",
    "    plt.savefig('./figures/{}.pdf'.format(name), format=\"pdf\", dpi = 150)"
   ]
  },
  {
   "cell_type": "code",
   "execution_count": null,
   "id": "60d5e6d1",
   "metadata": {},
   "outputs": [],
   "source": [
    "\n",
    "for t in ['euc', 'sphere', 'hyperbolic']:\n",
    "\n",
    "    for n in [2,4,8]: \n",
    "\n",
    "        for delta in [0.05,0.1,0.2]: \n",
    "\n",
    "            (new_errors, stein_errors, entry_errors) = pickle.load( open(  './exp_data/{0}_res_delta{1}_n{2}'.format(t,delta,n), 'rb' ) ) \n",
    "\n",
    "            name = t + '_delta{0}_n{1}'.format(delta,n)\n",
    "\n",
    "            save_plot([new_errors, stein_errors, entry_errors], n, delta, name) "
   ]
  },
  {
   "cell_type": "code",
   "execution_count": null,
   "id": "70f4ba0e",
   "metadata": {},
   "outputs": [],
   "source": []
  },
  {
   "cell_type": "code",
   "execution_count": null,
   "id": "a0bc831d",
   "metadata": {},
   "outputs": [],
   "source": []
  },
  {
   "cell_type": "code",
   "execution_count": null,
   "id": "109fcb5e",
   "metadata": {},
   "outputs": [],
   "source": []
  },
  {
   "cell_type": "code",
   "execution_count": 34,
   "id": "3f9a3c0d",
   "metadata": {},
   "outputs": [
    {
     "data": {
      "text/plain": [
       "1.0338617254782985"
      ]
     },
     "execution_count": 34,
     "metadata": {},
     "output_type": "execute_result"
    }
   ],
   "source": [
    "np.mean( new_errors )"
   ]
  },
  {
   "cell_type": "code",
   "execution_count": 35,
   "id": "4439f5e5",
   "metadata": {},
   "outputs": [
    {
     "data": {
      "text/plain": [
       "1.2692913963558499"
      ]
     },
     "execution_count": 35,
     "metadata": {},
     "output_type": "execute_result"
    }
   ],
   "source": [
    "np.mean( entry_errors ) "
   ]
  },
  {
   "cell_type": "code",
   "execution_count": 7,
   "id": "4c8ca488",
   "metadata": {},
   "outputs": [
    {
     "ename": "FileNotFoundError",
     "evalue": "[Errno 2] No such file or directory: './sphere_lin/n=10_mu=0.01'",
     "output_type": "error",
     "traceback": [
      "\u001b[1;31m---------------------------------------------------------------------------\u001b[0m",
      "\u001b[1;31mFileNotFoundError\u001b[0m                         Traceback (most recent call last)",
      "\u001b[1;32m<ipython-input-7-0107394f0add>\u001b[0m in \u001b[0;36m<module>\u001b[1;34m\u001b[0m\n\u001b[0;32m      4\u001b[0m \u001b[1;33m\u001b[0m\u001b[0m\n\u001b[0;32m      5\u001b[0m \u001b[1;32mfor\u001b[0m \u001b[0ms\u001b[0m \u001b[1;32min\u001b[0m \u001b[0msettings\u001b[0m\u001b[1;33m:\u001b[0m\u001b[1;33m\u001b[0m\u001b[1;33m\u001b[0m\u001b[0m\n\u001b[1;32m----> 6\u001b[1;33m     \u001b[0msave_plot\u001b[0m\u001b[1;33m(\u001b[0m \u001b[0ms\u001b[0m \u001b[1;33m)\u001b[0m\u001b[1;33m\u001b[0m\u001b[1;33m\u001b[0m\u001b[0m\n\u001b[0m",
      "\u001b[1;32m<ipython-input-6-a18ed5bc7a12>\u001b[0m in \u001b[0;36msave_plot\u001b[1;34m(setting)\u001b[0m\n\u001b[0;32m     14\u001b[0m     \u001b[1;32mfor\u001b[0m \u001b[1;33m(\u001b[0m\u001b[0mn\u001b[0m\u001b[1;33m,\u001b[0m \u001b[0mmu\u001b[0m \u001b[1;33m)\u001b[0m \u001b[1;32min\u001b[0m \u001b[0mn_mu\u001b[0m\u001b[1;33m:\u001b[0m\u001b[1;33m\u001b[0m\u001b[1;33m\u001b[0m\u001b[0m\n\u001b[0;32m     15\u001b[0m \u001b[1;33m\u001b[0m\u001b[0m\n\u001b[1;32m---> 16\u001b[1;33m         \u001b[0mg_errors\u001b[0m\u001b[1;33m,\u001b[0m \u001b[0mb_errors\u001b[0m\u001b[1;33m,\u001b[0m \u001b[0mg_vars\u001b[0m\u001b[1;33m,\u001b[0m \u001b[0mb_vars\u001b[0m \u001b[1;33m=\u001b[0m \u001b[0mpickle\u001b[0m\u001b[1;33m.\u001b[0m\u001b[0mload\u001b[0m\u001b[1;33m(\u001b[0m \u001b[0mopen\u001b[0m\u001b[1;33m(\u001b[0m \u001b[1;34m'./{0}/n={1}_mu={2}'\u001b[0m\u001b[1;33m.\u001b[0m\u001b[0mformat\u001b[0m\u001b[1;33m(\u001b[0m\u001b[0msetting\u001b[0m\u001b[1;33m,\u001b[0m \u001b[0mn\u001b[0m\u001b[1;33m,\u001b[0m \u001b[0mmu\u001b[0m\u001b[1;33m)\u001b[0m \u001b[1;33m,\u001b[0m \u001b[1;34m'rb'\u001b[0m \u001b[1;33m)\u001b[0m \u001b[1;33m)\u001b[0m\u001b[1;33m\u001b[0m\u001b[1;33m\u001b[0m\u001b[0m\n\u001b[0m\u001b[0;32m     17\u001b[0m \u001b[1;33m\u001b[0m\u001b[0m\n\u001b[0;32m     18\u001b[0m         \u001b[0mdata\u001b[0m \u001b[1;33m=\u001b[0m \u001b[1;33m[\u001b[0m\u001b[0mg_errors\u001b[0m\u001b[1;33m,\u001b[0m \u001b[0mb_errors\u001b[0m\u001b[1;33m]\u001b[0m\u001b[1;33m\u001b[0m\u001b[1;33m\u001b[0m\u001b[0m\n",
      "\u001b[1;31mFileNotFoundError\u001b[0m: [Errno 2] No such file or directory: './sphere_lin/n=10_mu=0.01'"
     ]
    }
   ],
   "source": [
    "# plot the errors\n",
    "\n",
    "settings = ['sphere_lin', 'sphere_nonlin', 'euc_lin', 'euc_nonlin', 'surface_lin', 'surface_nonlin' ]\n",
    "\n",
    "for s in settings:  \n",
    "    save_plot( s ) "
   ]
  },
  {
   "cell_type": "code",
   "execution_count": null,
   "id": "20399878",
   "metadata": {},
   "outputs": [],
   "source": []
  }
 ],
 "metadata": {
  "kernelspec": {
   "display_name": "Python 3",
   "language": "python",
   "name": "python3"
  },
  "language_info": {
   "codemirror_mode": {
    "name": "ipython",
    "version": 3
   },
   "file_extension": ".py",
   "mimetype": "text/x-python",
   "name": "python",
   "nbconvert_exporter": "python",
   "pygments_lexer": "ipython3",
   "version": "3.8.8"
  }
 },
 "nbformat": 4,
 "nbformat_minor": 5
}
